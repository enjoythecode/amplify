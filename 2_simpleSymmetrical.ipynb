{
 "cells": [
  {
   "cell_type": "code",
   "execution_count": 60,
   "id": "6534f7b9",
   "metadata": {},
   "outputs": [],
   "source": [
    "from scipy import optimize\n",
    "from numpy import linspace\n",
    "import matplotlib.pyplot as plt"
   ]
  },
  {
   "cell_type": "code",
   "execution_count": 70,
   "id": "b51b915e",
   "metadata": {},
   "outputs": [],
   "source": [
    "vlow = [0, 0]\n",
    "vhigh = [1, 2]\n",
    "\n",
    "def ibf(player, bid, params):\n",
    "    params_player = params[player * 4: (player+1)*4]\n",
    "    return  params_player[0] * bid**3 + params_player[1] * bid ** 2 + params_player[2] * bid + params_player[3]\n",
    "\n",
    "def dibf(player, bid, params):\n",
    "    params_player = params[player * 4: (player+1)*4]\n",
    "    return  3 * params_player[0] * bid**2 + 2 * params_player[1] * bid + params_player[2] * bid\n",
    "\n",
    "def model(x, params):\n",
    "    player0 = (-ibf(1, x, params)/vhigh[1]) + \\\n",
    "        (ibf(0, x, params) - x) * (1 / vhigh[1]) * (dibf(1, x, params))\n",
    "\n",
    "    player1 = (-ibf(0, x, params)/vhigh[0]) + \\\n",
    "        (ibf(1, x, params) - x) * (1 / vhigh[0]) * (dibf(0, x, params))\n",
    " \n",
    "    high_bid_should_be_high_eval = 0\n",
    "    for player in [0, 1]:\n",
    "         high_bid_should_be_high_eval += abs(ibf(player, params[-1], params) - vhigh[player])\n",
    "    \n",
    "    zero_bid_should_be_zero_eval = 0\n",
    "    for player in [0, 1]:\n",
    "         zero_bid_should_be_zero_eval += abs(ibf(player, 0, params))\n",
    "            \n",
    "    return abs(player0) + abs(player1) + high_bid_should_be_high_eval + zero_bid_should_be_zero_eval"
   ]
  },
  {
   "cell_type": "code",
   "execution_count": 71,
   "id": "b0a13cf3",
   "metadata": {},
   "outputs": [],
   "source": [
    "def loss_of_challenge(challenge):\n",
    "    def bound(params):\n",
    "        loss = 0\n",
    "        for x in linspace(min(vlow), max(vhigh)):\n",
    "            error = model(x, params)\n",
    "            loss += abs(error)\n",
    "        return loss\n",
    "    return bound"
   ]
  },
  {
   "cell_type": "code",
   "execution_count": null,
   "id": "1740fe7e",
   "metadata": {},
   "outputs": [],
   "source": []
  },
  {
   "cell_type": "code",
   "execution_count": 72,
   "id": "eb36a777",
   "metadata": {},
   "outputs": [],
   "source": [
    "def solve(challenge, bounds):\n",
    "    results = dict()\n",
    "    results['shgo'] = optimize.shgo(loss_of_challenge(challenge), bounds)\n",
    "    return results['shgo']"
   ]
  },
  {
   "cell_type": "code",
   "execution_count": 73,
   "id": "3a975ee9",
   "metadata": {},
   "outputs": [],
   "source": [
    "bounds = [(-32, 32)] * 9\n",
    "solution = solve(challenge_foc, bounds)"
   ]
  },
  {
   "cell_type": "code",
   "execution_count": 74,
   "id": "b5bcaaa9",
   "metadata": {},
   "outputs": [
    {
     "data": {
      "text/plain": [
       "array([-1.29088734e-07,  6.75462564e-07, -7.69889641e-07,  9.09824698e-08,\n",
       "       -5.35715726e-07,  3.66765423e-06, -4.84635399e-06,  7.57044421e-07,\n",
       "       -1.27838647e-03])"
      ]
     },
     "execution_count": 74,
     "metadata": {},
     "output_type": "execute_result"
    }
   ],
   "source": [
    "solution.x"
   ]
  },
  {
   "cell_type": "code",
   "execution_count": 75,
   "id": "83fb9cf4",
   "metadata": {},
   "outputs": [],
   "source": [
    "xs = linspace(min(vlow), max(vhigh))\n",
    "ys = [\n",
    "    [ibf(player, x, solution.x) for x in xs]\n",
    "    for player in [0, 1]\n",
    "]"
   ]
  },
  {
   "cell_type": "code",
   "execution_count": 76,
   "id": "d66a58cf",
   "metadata": {
    "scrolled": false
   },
   "outputs": [
    {
     "data": {
      "text/plain": [
       "[<matplotlib.lines.Line2D at 0x7f06027da0d0>]"
      ]
     },
     "execution_count": 76,
     "metadata": {},
     "output_type": "execute_result"
    },
    {
     "data": {
      "image/png": "[encoded data removed]",
      "text/plain": [
       "<Figure size 640x480 with 1 Axes>"
      ]
     },
     "metadata": {},
     "output_type": "display_data"
    }
   ],
   "source": [
    "plt.plot(xs, ys[0])\n",
    "plt.plot(xs, ys[1])"
   ]
  },
  {
   "cell_type": "code",
   "execution_count": null,
   "id": "1477c980",
   "metadata": {},
   "outputs": [],
   "source": []
  },
  {
   "cell_type": "code",
   "execution_count": null,
   "id": "87e06230",
   "metadata": {},
   "outputs": [],
   "source": []
  },
  {
   "cell_type": "code",
   "execution_count": null,
   "id": "baa3c67a",
   "metadata": {},
   "outputs": [],
   "source": []
  }
 ],
 "metadata": {
  "kernelspec": {
   "display_name": "Python 3 (ipykernel)",
   "language": "python",
   "name": "python3"
  },
  "language_info": {
   "codemirror_mode": {
    "name": "ipython",
    "version": 3
   },
   "file_extension": ".py",
   "mimetype": "text/x-python",
   "name": "python",
   "nbconvert_exporter": "python",
   "pygments_lexer": "ipython3",
   "version": "3.8.10"
  }
 },
 "nbformat": 4,
 "nbformat_minor": 5
}
