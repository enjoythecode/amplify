{
 "cells": [
  {
   "cell_type": "code",
   "execution_count": 10,
   "id": "6534f7b9",
   "metadata": {},
   "outputs": [],
   "source": [
    "from scipy import optimize"
   ]
  },
  {
   "cell_type": "code",
   "execution_count": 11,
   "id": "b51b915e",
   "metadata": {},
   "outputs": [],
   "source": [
    "def model(x, params):\n",
    "    return  params[0] * x**3 + params[1] * x ** 2 + params[2] * x + params[3]"
   ]
  },
  {
   "cell_type": "code",
   "execution_count": 12,
   "id": "38cb0bf6",
   "metadata": {},
   "outputs": [],
   "source": [
    "def challenge_simple(x):\n",
    "    return x ** 2"
   ]
  },
  {
   "cell_type": "code",
   "execution_count": 20,
   "id": "b0a13cf3",
   "metadata": {},
   "outputs": [],
   "source": [
    "def loss_of_challenge(challenge):\n",
    "    def bound(params):\n",
    "        loss = 0\n",
    "        for x in range(-10, 10):\n",
    "            y_hat = model(x, params)\n",
    "            y = challenge(x)\n",
    "            loss += abs(y_hat - y)\n",
    "        return loss\n",
    "    return bound"
   ]
  },
  {
   "cell_type": "code",
   "execution_count": 21,
   "id": "eb36a777",
   "metadata": {},
   "outputs": [],
   "source": [
    "def solve(challenge, bounds):\n",
    "    results = dict()\n",
    "    results['shgo'] = optimize.shgo(loss_of_challenge(challenge), bounds)\n",
    "    return results['shgo']"
   ]
  },
  {
   "cell_type": "code",
   "execution_count": 22,
   "id": "3a975ee9",
   "metadata": {},
   "outputs": [
    {
     "data": {
      "text/plain": [
       " message: Optimization terminated successfully.\n",
       " success: True\n",
       "     fun: 4.4548515938436594e-05\n",
       "    funl: [ 4.455e-05]\n",
       "       x: [-1.739e-08  1.000e+00  9.459e-07  1.388e-06]\n",
       "      xl: [[-1.739e-08  1.000e+00  9.459e-07  1.388e-06]]\n",
       "     nit: 2\n",
       "    nfev: 278\n",
       "   nlfev: 261\n",
       "   nljev: 38\n",
       "   nlhev: 0"
      ]
     },
     "execution_count": 22,
     "metadata": {},
     "output_type": "execute_result"
    }
   ],
   "source": [
    "bounds = [(-512, 512), (-512, 512), (-512, 512), (-512, 512)]\n",
    "solve(challenge_simple, bounds)"
   ]
  },
  {
   "cell_type": "code",
   "execution_count": 23,
   "id": "7c946fbe",
   "metadata": {},
   "outputs": [
    {
     "data": {
      "text/plain": [
       " message: Optimization terminated successfully.\n",
       " success: True\n",
       "     fun: 5.8470990114800614e-05\n",
       "    funl: [ 5.847e-05]\n",
       "       x: [ 5.000e+00 -3.000e+00  6.000e+00  2.000e+00]\n",
       "      xl: [[ 5.000e+00 -3.000e+00  6.000e+00  2.000e+00]]\n",
       "     nit: 2\n",
       "    nfev: 301\n",
       "   nlfev: 284\n",
       "   nljev: 42\n",
       "   nlhev: 0"
      ]
     },
     "execution_count": 23,
     "metadata": {},
     "output_type": "execute_result"
    }
   ],
   "source": [
    "def challenge_harder(x):\n",
    "    return model(x, [5, -3, 6, 2])\n",
    "solve(challenge_harder, bounds)"
   ]
  },
  {
   "cell_type": "code",
   "execution_count": null,
   "id": "b5bcaaa9",
   "metadata": {},
   "outputs": [],
   "source": []
  }
 ],
 "metadata": {
  "kernelspec": {
   "display_name": "Python 3 (ipykernel)",
   "language": "python",
   "name": "python3"
  },
  "language_info": {
   "codemirror_mode": {
    "name": "ipython",
    "version": 3
   },
   "file_extension": ".py",
   "mimetype": "text/x-python",
   "name": "python",
   "nbconvert_exporter": "python",
   "pygments_lexer": "ipython3",
   "version": "3.8.10"
  }
 },
 "nbformat": 4,
 "nbformat_minor": 5
}
