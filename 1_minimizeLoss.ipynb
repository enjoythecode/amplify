{
 "cells": [
  {
   "cell_type": "code",
   "execution_count": 1,
   "id": "3438e66c",
   "metadata": {},
   "outputs": [],
   "source": [
    "def model(x, params):\n",
    "    return  params[0] * x**3 + params[1] * x ** 2 + params[2] * x + params[3]"
   ]
  },
  {
   "cell_type": "code",
   "execution_count": 18,
   "id": "38cb0bf6",
   "metadata": {},
   "outputs": [],
   "source": [
    "def challenge_simple(x):\n",
    "    return x ** 2"
   ]
  },
  {
   "cell_type": "code",
   "execution_count": 30,
   "id": "b0a13cf3",
   "metadata": {},
   "outputs": [],
   "source": [
    "def loss_of_challenge(challenge):\n",
    "    def bound(params):\n",
    "        loss = 0\n",
    "        for x in range(-10, 10):\n",
    "            y_hat = model(x, params)\n",
    "            y = challenge_simple(x)\n",
    "            loss += abs(y_hat - y)\n",
    "        return loss\n",
    "    return bound"
   ]
  },
  {
   "cell_type": "code",
   "execution_count": 25,
   "id": "a2d5ca61",
   "metadata": {},
   "outputs": [],
   "source": [
    "from scipy import optimize"
   ]
  },
  {
   "cell_type": "code",
   "execution_count": 37,
   "id": "eb36a777",
   "metadata": {},
   "outputs": [],
   "source": [
    "results = dict()\n",
    "bounds = [(-512, 512), (-512, 512), (-512, 512), (-512, 512)]\n",
    "results['shgo'] = optimize.shgo(loss_of_challenge(challenge_simple), bounds)"
   ]
  },
  {
   "cell_type": "code",
   "execution_count": 38,
   "id": "3a975ee9",
   "metadata": {},
   "outputs": [
    {
     "data": {
      "text/plain": [
       " message: Optimization terminated successfully.\n",
       " success: True\n",
       "     fun: 4.4548515938436594e-05\n",
       "    funl: [ 4.455e-05]\n",
       "       x: [-1.739e-08  1.000e+00  9.459e-07  1.388e-06]\n",
       "      xl: [[-1.739e-08  1.000e+00  9.459e-07  1.388e-06]]\n",
       "     nit: 1\n",
       "    nfev: 278\n",
       "   nlfev: 261\n",
       "   nljev: 38\n",
       "   nlhev: 0"
      ]
     },
     "execution_count": 38,
     "metadata": {},
     "output_type": "execute_result"
    }
   ],
   "source": [
    "results['shgo']"
   ]
  },
  {
   "cell_type": "code",
   "execution_count": null,
   "id": "7c946fbe",
   "metadata": {},
   "outputs": [],
   "source": []
  }
 ],
 "metadata": {
  "kernelspec": {
   "display_name": "Python 3 (ipykernel)",
   "language": "python",
   "name": "python3"
  },
  "language_info": {
   "codemirror_mode": {
    "name": "ipython",
    "version": 3
   },
   "file_extension": ".py",
   "mimetype": "text/x-python",
   "name": "python",
   "nbconvert_exporter": "python",
   "pygments_lexer": "ipython3",
   "version": "3.10.3"
  }
 },
 "nbformat": 4,
 "nbformat_minor": 5
}
