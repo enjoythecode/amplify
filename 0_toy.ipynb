{
 "cells": [
  {
   "cell_type": "markdown",
   "id": "fc37e082",
   "metadata": {},
   "source": [
    "goal of this notebook is to test the capabilities of the scipy.optimize module at a very, very basic level with some toy examples.\n",
    "\n",
    "documentation is available at: https://docs.scipy.org/doc/scipy/tutorial/optimize.html"
   ]
  },
  {
   "cell_type": "code",
   "execution_count": 1,
   "id": "902a1753",
   "metadata": {},
   "outputs": [],
   "source": [
    "import scipy.optimize as op\n",
    "import numpy as np"
   ]
  },
  {
   "cell_type": "markdown",
   "id": "abd2829c",
   "metadata": {},
   "source": [
    "# 0.0: Optimize x^2"
   ]
  },
  {
   "cell_type": "code",
   "execution_count": 12,
   "id": "88a40a9d",
   "metadata": {},
   "outputs": [],
   "source": [
    "def x_squared(x):\n",
    "    return x ** 2"
   ]
  },
  {
   "cell_type": "code",
   "execution_count": 13,
   "id": "84600126",
   "metadata": {},
   "outputs": [
    {
     "name": "stdout",
     "output_type": "stream",
     "text": [
      "Optimization terminated successfully.\n",
      "         Current function value: 0.000000\n",
      "         Iterations: 41\n",
      "         Function evaluations: 82\n",
      "[-9.09494702e-13]\n"
     ]
    }
   ],
   "source": [
    "res = op.minimize(x_squared, [1234], method='nelder-mead',\n",
    "               options={'xatol': 1e-8, 'disp': True})\n",
    "print(res.x)"
   ]
  },
  {
   "cell_type": "markdown",
   "id": "9a67533c",
   "metadata": {},
   "source": [
    "comments: successfully finds f(0) = 0 as the minimum. this algorithm is, notably, not constrained."
   ]
  },
  {
   "cell_type": "markdown",
   "id": "2909e795",
   "metadata": {},
   "source": [
    "# 0.1: Optimize x^2 + 5"
   ]
  },
  {
   "cell_type": "code",
   "execution_count": 18,
   "id": "b033e0bf",
   "metadata": {},
   "outputs": [],
   "source": [
    "def x_squared_add_five(x):\n",
    "    return x ** 2 + 5"
   ]
  },
  {
   "cell_type": "code",
   "execution_count": 19,
   "id": "3edcc37c",
   "metadata": {},
   "outputs": [
    {
     "name": "stdout",
     "output_type": "stream",
     "text": [
      "Optimization terminated successfully.\n",
      "         Current function value: 5.000000\n",
      "         Iterations: 41\n",
      "         Function evaluations: 83\n",
      "[-9.09494702e-13]\n"
     ]
    }
   ],
   "source": [
    "res = op.minimize(x_squared_add_five, [1234], method='nelder-mead',\n",
    "               options={'xatol': 1e-8, 'disp': True})\n",
    "print(res.x)"
   ]
  },
  {
   "cell_type": "markdown",
   "id": "e43005fb",
   "metadata": {},
   "source": [
    "comments: again, finds f(0) = 5 as the minimum."
   ]
  },
  {
   "cell_type": "markdown",
   "id": "7fceb4c7",
   "metadata": {},
   "source": [
    "# 0.2: Optimize (x-7)^2"
   ]
  },
  {
   "cell_type": "code",
   "execution_count": 20,
   "id": "ab0b3b6c",
   "metadata": {},
   "outputs": [],
   "source": [
    "def x_minus_seven_squared(x):\n",
    "    return (x - 7) ** 2"
   ]
  },
  {
   "cell_type": "code",
   "execution_count": 21,
   "id": "3ed9a94f",
   "metadata": {},
   "outputs": [
    {
     "name": "stdout",
     "output_type": "stream",
     "text": [
      "Optimization terminated successfully.\n",
      "         Current function value: 0.000000\n",
      "         Iterations: 41\n",
      "         Function evaluations: 82\n",
      "[7.]\n"
     ]
    }
   ],
   "source": [
    "res = op.minimize(x_minus_seven_squared, [1234], method='nelder-mead',\n",
    "               options={'xatol': 1e-8, 'disp': True})\n",
    "print(res.x)"
   ]
  },
  {
   "cell_type": "markdown",
   "id": "b73a2a58",
   "metadata": {},
   "source": [
    "comments: finds f(7) = 0 as the minimum."
   ]
  },
  {
   "cell_type": "markdown",
   "id": "6df88454",
   "metadata": {},
   "source": [
    "# 0.3 Optimize (x-7) ^ 2, subject to x^2 < x"
   ]
  },
  {
   "cell_type": "markdown",
   "id": "da78b5af",
   "metadata": {},
   "source": [
    "i am trying to use SLSQP here, which supports constraints that are relative to zero. that means, that equality constraints are of the from c(x) = 0, and ineq constraints are of the form c(x) > 0.\n",
    "\n",
    "converting x^2 < x to this format yields: - x^2 + x > 0, whose first partial derivative is (-2x + 1)\n",
    "\n",
    "the method needs the Jacobian of all the constraints, and it is to be provided as a dictionary (see example in the documentation: https://docs.scipy.org/doc/scipy/tutorial/optimize.html#sequential-least-squares-programming-slsqp-algorithm-method-slsqp)"
   ]
  },
  {
   "cell_type": "code",
   "execution_count": 35,
   "id": "f4b34eaa",
   "metadata": {},
   "outputs": [],
   "source": [
    "ineq_cons = {'type': 'ineq',\n",
    "             'fun' : lambda x: np.array([-x[0]**2 + x[0]]),\n",
    "             'jac' : lambda x: np.array([-2.0 * x[0] + 1.0])\n",
    "}"
   ]
  },
  {
   "cell_type": "code",
   "execution_count": 36,
   "id": "49cd8dfb",
   "metadata": {},
   "outputs": [
    {
     "name": "stdout",
     "output_type": "stream",
     "text": [
      "Optimization terminated successfully    (Exit mode 0)\n",
      "            Current function value: 35.999999999981064\n",
      "            Iterations: 10\n",
      "            Function evaluations: 12\n",
      "            Gradient evaluations: 10\n",
      "[1.]\n"
     ]
    }
   ],
   "source": [
    "def x_minus_seven_squared_der(x):\n",
    "    return 2 * (x - 7)\n",
    "\n",
    "\n",
    "bounds = [(-1e5, 1e5)] # liberal bounds, not worried about this right now\n",
    "res = op.minimize(x_minus_seven_squared, [1000], method='SLSQP', jac=x_minus_seven_squared_der,\n",
    "               constraints=[ineq_cons], options={'ftol': 1e-9, 'disp': True},\n",
    "               bounds=bounds)\n",
    "print(res.x)"
   ]
  },
  {
   "cell_type": "markdown",
   "id": "fb188876",
   "metadata": {},
   "source": [
    "comments: we correctly find the closest we can get to the minima (7) without messing up the constraint of (x ^ 2 < x)"
   ]
  },
  {
   "cell_type": "code",
   "execution_count": null,
   "id": "faefb4f7",
   "metadata": {},
   "outputs": [],
   "source": []
  }
 ],
 "metadata": {
  "kernelspec": {
   "display_name": "Python 3 (ipykernel)",
   "language": "python",
   "name": "python3"
  },
  "language_info": {
   "codemirror_mode": {
    "name": "ipython",
    "version": 3
   },
   "file_extension": ".py",
   "mimetype": "text/x-python",
   "name": "python",
   "nbconvert_exporter": "python",
   "pygments_lexer": "ipython3",
   "version": "3.8.10"
  }
 },
 "nbformat": 4,
 "nbformat_minor": 5
}
